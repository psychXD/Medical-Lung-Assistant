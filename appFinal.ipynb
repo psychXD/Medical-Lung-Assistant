{
  "cells": [
    {
      "cell_type": "code",
      "execution_count": null,
      "metadata": {
        "colab": {
          "base_uri": "https://localhost:8080/"
        },
        "id": "o02_T_q88NXV",
        "outputId": "85276e53-b778-4c08-cb37-31f4dfd9e01e"
      },
      "outputs": [
        {
          "name": "stdout",
          "output_type": "stream",
          "text": [
            "Drive already mounted at /content/drive; to attempt to forcibly remount, call drive.mount(\"/content/drive\", force_remount=True).\n"
          ]
        }
      ],
      "source": [
        "from google.colab import drive\n",
        "drive.mount('/content/drive')"
      ]
    },
    {
      "cell_type": "code",
      "execution_count": null,
      "metadata": {
        "colab": {
          "base_uri": "https://localhost:8080/"
        },
        "id": "5x9CrY05G647",
        "outputId": "32b2d5c8-a6e1-4a28-9f50-3a9680cb67ef"
      },
      "outputs": [
        {
          "name": "stdout",
          "output_type": "stream",
          "text": [
            "Requirement already satisfied: flask in /usr/local/lib/python3.10/dist-packages (2.2.5)\n",
            "Requirement already satisfied: Werkzeug>=2.2.2 in /usr/local/lib/python3.10/dist-packages (from flask) (3.0.2)\n",
            "Requirement already satisfied: Jinja2>=3.0 in /usr/local/lib/python3.10/dist-packages (from flask) (3.1.3)\n",
            "Requirement already satisfied: itsdangerous>=2.0 in /usr/local/lib/python3.10/dist-packages (from flask) (2.2.0)\n",
            "Requirement already satisfied: click>=8.0 in /usr/local/lib/python3.10/dist-packages (from flask) (8.1.7)\n",
            "Requirement already satisfied: MarkupSafe>=2.0 in /usr/local/lib/python3.10/dist-packages (from Jinja2>=3.0->flask) (2.1.5)\n",
            "Requirement already satisfied: flask-ngrok in /usr/local/lib/python3.10/dist-packages (0.0.25)\n",
            "Requirement already satisfied: Flask>=0.8 in /usr/local/lib/python3.10/dist-packages (from flask-ngrok) (2.2.5)\n",
            "Requirement already satisfied: requests in /usr/local/lib/python3.10/dist-packages (from flask-ngrok) (2.31.0)\n",
            "Requirement already satisfied: Werkzeug>=2.2.2 in /usr/local/lib/python3.10/dist-packages (from Flask>=0.8->flask-ngrok) (3.0.2)\n",
            "Requirement already satisfied: Jinja2>=3.0 in /usr/local/lib/python3.10/dist-packages (from Flask>=0.8->flask-ngrok) (3.1.3)\n",
            "Requirement already satisfied: itsdangerous>=2.0 in /usr/local/lib/python3.10/dist-packages (from Flask>=0.8->flask-ngrok) (2.2.0)\n",
            "Requirement already satisfied: click>=8.0 in /usr/local/lib/python3.10/dist-packages (from Flask>=0.8->flask-ngrok) (8.1.7)\n",
            "Requirement already satisfied: charset-normalizer<4,>=2 in /usr/local/lib/python3.10/dist-packages (from requests->flask-ngrok) (3.3.2)\n",
            "Requirement already satisfied: idna<4,>=2.5 in /usr/local/lib/python3.10/dist-packages (from requests->flask-ngrok) (3.7)\n",
            "Requirement already satisfied: urllib3<3,>=1.21.1 in /usr/local/lib/python3.10/dist-packages (from requests->flask-ngrok) (2.0.7)\n",
            "Requirement already satisfied: certifi>=2017.4.17 in /usr/local/lib/python3.10/dist-packages (from requests->flask-ngrok) (2024.2.2)\n",
            "Requirement already satisfied: MarkupSafe>=2.0 in /usr/local/lib/python3.10/dist-packages (from Jinja2>=3.0->Flask>=0.8->flask-ngrok) (2.1.5)\n",
            "Requirement already satisfied: flask in /usr/local/lib/python3.10/dist-packages (2.2.5)\n",
            "Requirement already satisfied: Werkzeug>=2.2.2 in /usr/local/lib/python3.10/dist-packages (from flask) (3.0.2)\n",
            "Requirement already satisfied: Jinja2>=3.0 in /usr/local/lib/python3.10/dist-packages (from flask) (3.1.3)\n",
            "Requirement already satisfied: itsdangerous>=2.0 in /usr/local/lib/python3.10/dist-packages (from flask) (2.2.0)\n",
            "Requirement already satisfied: click>=8.0 in /usr/local/lib/python3.10/dist-packages (from flask) (8.1.7)\n",
            "Requirement already satisfied: MarkupSafe>=2.0 in /usr/local/lib/python3.10/dist-packages (from Jinja2>=3.0->flask) (2.1.5)\n",
            "Requirement already satisfied: flask-ngrok in /usr/local/lib/python3.10/dist-packages (0.0.25)\n",
            "Requirement already satisfied: Flask>=0.8 in /usr/local/lib/python3.10/dist-packages (from flask-ngrok) (2.2.5)\n",
            "Requirement already satisfied: requests in /usr/local/lib/python3.10/dist-packages (from flask-ngrok) (2.31.0)\n",
            "Requirement already satisfied: Werkzeug>=2.2.2 in /usr/local/lib/python3.10/dist-packages (from Flask>=0.8->flask-ngrok) (3.0.2)\n",
            "Requirement already satisfied: Jinja2>=3.0 in /usr/local/lib/python3.10/dist-packages (from Flask>=0.8->flask-ngrok) (3.1.3)\n",
            "Requirement already satisfied: itsdangerous>=2.0 in /usr/local/lib/python3.10/dist-packages (from Flask>=0.8->flask-ngrok) (2.2.0)\n",
            "Requirement already satisfied: click>=8.0 in /usr/local/lib/python3.10/dist-packages (from Flask>=0.8->flask-ngrok) (8.1.7)\n",
            "Requirement already satisfied: charset-normalizer<4,>=2 in /usr/local/lib/python3.10/dist-packages (from requests->flask-ngrok) (3.3.2)\n",
            "Requirement already satisfied: idna<4,>=2.5 in /usr/local/lib/python3.10/dist-packages (from requests->flask-ngrok) (3.7)\n",
            "Requirement already satisfied: urllib3<3,>=1.21.1 in /usr/local/lib/python3.10/dist-packages (from requests->flask-ngrok) (2.0.7)\n",
            "Requirement already satisfied: certifi>=2017.4.17 in /usr/local/lib/python3.10/dist-packages (from requests->flask-ngrok) (2024.2.2)\n",
            "Requirement already satisfied: MarkupSafe>=2.0 in /usr/local/lib/python3.10/dist-packages (from Jinja2>=3.0->Flask>=0.8->flask-ngrok) (2.1.5)\n",
            "Requirement already satisfied: pyngrok in /usr/local/lib/python3.10/dist-packages (7.1.6)\n",
            "Requirement already satisfied: PyYAML>=5.1 in /usr/local/lib/python3.10/dist-packages (from pyngrok) (6.0.1)\n"
          ]
        }
      ],
      "source": [
        "!pip install flask\n",
        "!pip install flask-ngrok\n",
        "!pip install flask\n",
        "!pip install flask-ngrok\n",
        "!pip install pyngrok"
      ]
    },
    {
      "cell_type": "code",
      "execution_count": null,
      "metadata": {
        "colab": {
          "base_uri": "https://localhost:8080/"
        },
        "id": "jJSoLeN3v-2t",
        "outputId": "3ab07be6-85d7-4147-b380-33e1542824e6"
      },
      "outputs": [
        {
          "name": "stdout",
          "output_type": "stream",
          "text": [
            "Overwriting /content/drive/MyDrive/flask/app.py\n"
          ]
        }
      ],
      "source": [
        "# %%writefile /content/drive/MyDrive/flask/app.py\n",
        "# from flask import Flask, render_template, request\n",
        "# from PIL import Image\n",
        "# import io\n",
        "# import numpy as np\n",
        "# from skimage.transform import resize\n",
        "# from keras.models import load_model\n",
        "# from pyngrok import ngrok\n",
        "\n",
        "# ngrok.set_auth_token(\"2fpQTaB9QPMg9ucyTEpZoPNciH0_5ezGiyAHq8XH3jrcdFKwi\")\n",
        "# port_num = 5000\n",
        "\n",
        "# public_url = ngrok.connect(port_num)\n",
        "# print(public_url)\n",
        "\n",
        "# app = Flask(__name__)\n",
        "# model = load_model('/content/drive/MyDrive/cpdataset/saved_model/unetModel.h5')\n",
        "\n",
        "# # Assuming each pixel is 0.25 mm²\n",
        "# PIXEL_AREA = 0.25\n",
        "\n",
        "# @app.route(\"/\", methods=[\"GET\", \"POST\"])\n",
        "# def index():\n",
        "#     if request.method == \"POST\":\n",
        "#         if 'file' not in request.files:\n",
        "#             return \"No file part\"\n",
        "\n",
        "#         file = request.files['file']\n",
        "\n",
        "#         if file.filename == '':\n",
        "#             return \"No selected file\"\n",
        "\n",
        "#         if file:\n",
        "#             # Read the image file and preprocess\n",
        "#             img = Image.open(io.BytesIO(file.read()))\n",
        "#             img = np.array(img)\n",
        "#             img = resize(img, output_shape=(256, 256, 1), preserve_range=True)\n",
        "#             img = img / 255\n",
        "#             img = img[np.newaxis, ...]\n",
        "\n",
        "#             # Predict the mask\n",
        "#             pred = model.predict(img)\n",
        "#             pred_img = (pred.squeeze() > 0.5).astype(np.uint8) * 255\n",
        "\n",
        "#             # Calculate infected area and healthy area\n",
        "#             infected_area = np.sum(pred_img > 0) * PIXEL_AREA\n",
        "#             healthy_area = np.sum(pred_img == 0) * PIXEL_AREA\n",
        "\n",
        "#             # Pass the results to the template\n",
        "#             return render_template(\"result.html\", infected_area=infected_area, healthy_area=healthy_area)\n",
        "\n",
        "#     return render_template(\"index.html\")\n",
        "\n",
        "# if __name__ == \"__main__\":\n",
        "#     app.run()"
      ]
    },
    {
      "cell_type": "code",
      "execution_count": null,
      "metadata": {
        "colab": {
          "base_uri": "https://localhost:8080/"
        },
        "id": "am3SuEg12GMG",
        "outputId": "eba55a1e-d555-427e-e986-de8ad8bfe38a"
      },
      "outputs": [
        {
          "name": "stdout",
          "output_type": "stream",
          "text": [
            "2024-05-05 15:32:50.987848: E external/local_xla/xla/stream_executor/cuda/cuda_dnn.cc:9261] Unable to register cuDNN factory: Attempting to register factory for plugin cuDNN when one has already been registered\n",
            "2024-05-05 15:32:50.987921: E external/local_xla/xla/stream_executor/cuda/cuda_fft.cc:607] Unable to register cuFFT factory: Attempting to register factory for plugin cuFFT when one has already been registered\n",
            "2024-05-05 15:32:50.990475: E external/local_xla/xla/stream_executor/cuda/cuda_blas.cc:1515] Unable to register cuBLAS factory: Attempting to register factory for plugin cuBLAS when one has already been registered\n",
            "2024-05-05 15:32:51.003319: I tensorflow/core/platform/cpu_feature_guard.cc:182] This TensorFlow binary is optimized to use available CPU instructions in performance-critical operations.\n",
            "To enable the following instructions: AVX2 FMA, in other operations, rebuild TensorFlow with the appropriate compiler flags.\n",
            "2024-05-05 15:32:52.654492: W tensorflow/compiler/tf2tensorrt/utils/py_utils.cc:38] TF-TRT Warning: Could not find TensorRT\n",
            "NgrokTunnel: \"https://9105-34-172-226-253.ngrok-free.app\" -> \"http://localhost:5000\"\n",
            " * Serving Flask app 'app'\n",
            " * Debug mode: off\n",
            "\u001b[31m\u001b[1mWARNING: This is a development server. Do not use it in a production deployment. Use a production WSGI server instead.\u001b[0m\n",
            " * Running on http://127.0.0.1:5000\n",
            "\u001b[33mPress CTRL+C to quit\u001b[0m\n",
            "127.0.0.1 - - [05/May/2024 15:33:03] \"GET / HTTP/1.1\" 200 -\n",
            "127.0.0.1 - - [05/May/2024 15:33:03] \"\u001b[33mGET /favicon.ico HTTP/1.1\u001b[0m\" 404 -\n",
            "1/1 [==============================] - 1s 527ms/step\n",
            "127.0.0.1 - - [05/May/2024 15:33:17] \"POST / HTTP/1.1\" 200 -\n",
            "^C\n"
          ]
        }
      ],
      "source": [
        "!python /content/drive/MyDrive/flask/app.py"
      ]
    },
    {
      "cell_type": "code",
      "execution_count": null,
      "metadata": {
        "colab": {
          "base_uri": "https://localhost:8080/"
        },
        "id": "_N20gB3jGZF_",
        "outputId": "1aee7f14-2e4e-4842-f539-055466426568"
      },
      "outputs": [
        {
          "name": "stdout",
          "output_type": "stream",
          "text": [
            "Overwriting /content/drive/MyDrive/app2/app.py\n"
          ]
        }
      ],
      "source": [
        "# %%writefile /content/drive/MyDrive/app2/app.py\n",
        "\n",
        "# from flask import Flask, render_template, request\n",
        "# from PIL import Image\n",
        "# import io\n",
        "# import numpy as np\n",
        "# from skimage.transform import resize\n",
        "# from keras.models import load_model\n",
        "# from keras.preprocessing import image as keras_image\n",
        "# from pyngrok import ngrok\n",
        "\n",
        "# ngrok.set_auth_token(\"2fpQTaB9QPMg9ucyTEpZoPNciH0_5ezGiyAHq8XH3jrcdFKwi\")\n",
        "# port_num = 5000\n",
        "\n",
        "# public_url = ngrok.connect(port_num)\n",
        "# print(public_url)\n",
        "\n",
        "# app = Flask(__name__)\n",
        "# unet_model = load_model('/content/drive/MyDrive/cpdataset/saved_model/unetModel.h5')\n",
        "# cnn_model = load_model('/content/drive/MyDrive/cpdataset/saved_model/model_after_training.h5')\n",
        "\n",
        "# # Assuming each pixel is 0.25 mm²\n",
        "# PIXEL_AREA = 0.25\n",
        "\n",
        "# @app.route(\"/\", methods=[\"GET\", \"POST\"])\n",
        "# def index():\n",
        "#     if request.method == \"POST\":\n",
        "#         if 'file' not in request.files:\n",
        "#             return \"No file part\"\n",
        "\n",
        "#         file = request.files['file']\n",
        "\n",
        "#         if file.filename == '':\n",
        "#             return \"No selected file\"\n",
        "\n",
        "#         if file:\n",
        "#             # Read the image file and preprocess for UNet model\n",
        "#             img = Image.open(io.BytesIO(file.read())).convert('L')  # Convert image to grayscale\n",
        "#             img_unet = np.array(img)\n",
        "#             img_unet = resize(img_unet, output_shape=(256, 256, 1), preserve_range=True)\n",
        "#             img_unet = img_unet / 255\n",
        "#             img_unet = img_unet[np.newaxis, ...]\n",
        "\n",
        "#             # Preprocess for CNN model\n",
        "#             img_cnn = img.resize((64, 64))  # Adjust size according to your CNN model input size\n",
        "#             img_cnn = keras_image.img_to_array(img_cnn)\n",
        "#             img_cnn = np.expand_dims(img_cnn, axis=0)\n",
        "#             img_cnn /= 255\n",
        "\n",
        "#             # Predict the mask using UNet\n",
        "#             pred = unet_model.predict(img_unet)\n",
        "#             #pred_img = (pred.squeeze() > 0.5).astype(np.uint8) * 255\n",
        "#             pred_img = (pred.squeeze() > 0.3).astype(np.uint8) * 255  # Use a threshold of 0.3\n",
        "\n",
        "#             # Calculate infected area and healthy area\n",
        "#             infected_area = np.sum(pred_img > 0) * PIXEL_AREA\n",
        "#             healthy_area = np.sum(pred_img == 0) * PIXEL_AREA\n",
        "\n",
        "#             # Predict lung disease class using CNN\n",
        "#             img_cnn_resized = img.resize((64, 64))  # Resize image to match CNN model input size\n",
        "#             img_cnn_resized = keras_image.img_to_array(img_cnn_resized)\n",
        "#             img_cnn_resized = np.expand_dims(img_cnn_resized, axis=0)\n",
        "#             img_cnn_resized /= 255\n",
        "\n",
        "#             class_probabilities = cnn_model.predict(img_cnn_resized)[0]\n",
        "#             classes = ['squamous.cell.carcinoma', 'pneumonia', 'normal', 'Non Cancerous Tumours', 'large.cell.carcinoma', 'Covid', 'adenocarcinoma']\n",
        "#             predicted_class = classes[np.argmax(class_probabilities)]\n",
        "#             probability = class_probabilities[np.argmax(class_probabilities)] * 100\n",
        "\n",
        "#             # Pass the results to the template\n",
        "#             return render_template(\"result.html\", infected_area=infected_area, healthy_area=healthy_area, predicted_class=predicted_class, probability=probability)\n",
        "\n",
        "#     return render_template(\"index.html\")\n",
        "\n",
        "# if __name__ == \"__main__\":\n",
        "#     app.run()\n",
        "%%writefile /content/drive/MyDrive/app2/app.py\n",
        "\n",
        "from flask import Flask, render_template, request\n",
        "from PIL import Image\n",
        "import io\n",
        "import numpy as np\n",
        "from skimage.transform import resize\n",
        "from keras.models import load_model\n",
        "from keras.preprocessing import image as keras_image\n",
        "from pyngrok import ngrok\n",
        "\n",
        "ngrok.set_auth_token(\"2fpQTaB9QPMg9ucyTEpZoPNciH0_5ezGiyAHq8XH3jrcdFKwi\")\n",
        "port_num = 5000\n",
        "\n",
        "public_url = ngrok.connect(port_num)\n",
        "print(public_url)\n",
        "\n",
        "app = Flask(__name__)\n",
        "unet_model = load_model('/content/drive/MyDrive/cpdataset/saved_model/unetModel.h5')\n",
        "cnn_model = load_model('/content/drive/MyDrive/cpdataset/saved_model/model_after_training.h5')\n",
        "\n",
        "# Assuming each pixel is 0.25 mm²\n",
        "PIXEL_AREA = 0.25\n",
        "\n",
        "@app.route(\"/\", methods=[\"GET\", \"POST\"])\n",
        "def index():\n",
        "    if request.method == \"POST\":\n",
        "        if 'file' not in request.files:\n",
        "            return \"No file part\"\n",
        "\n",
        "        file = request.files['file']\n",
        "\n",
        "        if file.filename == '':\n",
        "            return \"No selected file\"\n",
        "\n",
        "        if file:\n",
        "\n",
        "            img = Image.open(io.BytesIO(file.read()))\n",
        "            img_unet = np.array(img)\n",
        "            img_unet = resize(img_unet, output_shape=(256, 256, 1), preserve_range=True)\n",
        "            img_unet = img_unet / 255\n",
        "            img_unet = img_unet[np.newaxis, ...]\n",
        "\n",
        "            # Preprocess for CNN model\n",
        "            img_cnn = img.resize((64, 64))\n",
        "            img_cnn = keras_image.img_to_array(img_cnn)\n",
        "            img_cnn = np.expand_dims(img_cnn, axis=0)\n",
        "            img_cnn /= 255\n",
        "\n",
        "            # Predict the mask using UNet\n",
        "            pred = unet_model.predict(img_unet)\n",
        "            pred_img = (pred.squeeze() > 0.5).astype(np.uint8) * 255\n",
        "\n",
        "            # Calculate infected area and healthy area\n",
        "            infected_area = np.sum(pred_img > 0) * PIXEL_AREA\n",
        "            healthy_area = np.sum(pred_img == 0) * PIXEL_AREA\n",
        "\n",
        "            img_cnn_resized = img.resize((64, 64))  # Resize image to match CNN model input size\n",
        "            img_cnn_resized = keras_image.img_to_array(img_cnn_resized)\n",
        "            img_cnn_resized = np.expand_dims(img_cnn_resized, axis=0)\n",
        "            img_cnn_resized /= 255\n",
        "\n",
        "            class_probabilities = cnn_model.predict(img_cnn_resized)[0]\n",
        "            print(f\"Class probabilities: {class_probabilities}\")\n",
        "            classes = ['squamous.cell.carcinoma', 'pneumonia', 'normal', 'Non Cancerous Tumours', 'large.cell.carcinoma', 'Covid', 'adenocarcinoma']\n",
        "            predicted_class = classes[np.argmax(class_probabilities)]\n",
        "            probability = class_probabilities[np.argmax(class_probabilities)] * 100\n",
        "\n",
        "\n",
        "\n",
        "\n",
        "            return render_template(\"result.html\", infected_area=infected_area, healthy_area=healthy_area, predicted_class=predicted_class, probability=probability)\n",
        "\n",
        "    return render_template(\"index.html\")\n",
        "\n",
        "if __name__ == \"__main__\":\n",
        "    app.run()\n"
      ]
    },
    {
      "cell_type": "code",
      "execution_count": null,
      "metadata": {
        "colab": {
          "background_save": true,
          "base_uri": "https://localhost:8080/"
        },
        "id": "vd8YTeVTUB7v",
        "outputId": "9d60b660-5f08-4b0d-dbd5-0e605bdee345"
      },
      "outputs": [
        {
          "name": "stdout",
          "output_type": "stream",
          "text": [
            "2024-05-08 11:07:49.620289: E external/local_xla/xla/stream_executor/cuda/cuda_dnn.cc:9261] Unable to register cuDNN factory: Attempting to register factory for plugin cuDNN when one has already been registered\n",
            "2024-05-08 11:07:49.620362: E external/local_xla/xla/stream_executor/cuda/cuda_fft.cc:607] Unable to register cuFFT factory: Attempting to register factory for plugin cuFFT when one has already been registered\n",
            "2024-05-08 11:07:49.623909: E external/local_xla/xla/stream_executor/cuda/cuda_blas.cc:1515] Unable to register cuBLAS factory: Attempting to register factory for plugin cuBLAS when one has already been registered\n",
            "2024-05-08 11:07:49.644569: I tensorflow/core/platform/cpu_feature_guard.cc:182] This TensorFlow binary is optimized to use available CPU instructions in performance-critical operations.\n",
            "To enable the following instructions: AVX2 FMA, in other operations, rebuild TensorFlow with the appropriate compiler flags.\n",
            "2024-05-08 11:07:51.348632: W tensorflow/compiler/tf2tensorrt/utils/py_utils.cc:38] TF-TRT Warning: Could not find TensorRT\n",
            "NgrokTunnel: \"https://b410-35-237-14-55.ngrok-free.app\" -> \"http://localhost:5000\"\n",
            " * Serving Flask app 'app'\n",
            " * Debug mode: off\n",
            "\u001b[31m\u001b[1mWARNING: This is a development server. Do not use it in a production deployment. Use a production WSGI server instead.\u001b[0m\n",
            " * Running on http://127.0.0.1:5000\n",
            "\u001b[33mPress CTRL+C to quit\u001b[0m\n",
            "127.0.0.1 - - [08/May/2024 11:08:04] \"GET / HTTP/1.1\" 200 -\n",
            "127.0.0.1 - - [08/May/2024 11:08:05] \"\u001b[33mGET /favicon.ico HTTP/1.1\u001b[0m\" 404 -\n",
            "1/1 [==============================] - 0s 338ms/step\n",
            "1/1 [==============================] - 0s 115ms/step\n",
            "Class probabilities: [0. 0. 0. 0. 1. 0. 0.]\n",
            "127.0.0.1 - - [08/May/2024 11:08:36] \"POST / HTTP/1.1\" 200 -\n"
          ]
        }
      ],
      "source": [
        "!python /content/drive/MyDrive/app2/app.py"
      ]
    },
    {
      "cell_type": "code",
      "execution_count": null,
      "metadata": {
        "id": "18U3OHufUEmc"
      },
      "outputs": [],
      "source": []
    }
  ],
  "metadata": {
    "colab": {
      "provenance": []
    },
    "kernelspec": {
      "display_name": "Python 3",
      "name": "python3"
    },
    "language_info": {
      "name": "python"
    }
  },
  "nbformat": 4,
  "nbformat_minor": 0
}